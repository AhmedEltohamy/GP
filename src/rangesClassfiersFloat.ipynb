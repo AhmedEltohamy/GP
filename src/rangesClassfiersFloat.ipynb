{
  "nbformat": 4,
  "nbformat_minor": 0,
  "metadata": {
    "colab": {
      "name": "rangesClassfiers2.ipynb",
      "provenance": [],
      "collapsed_sections": []
    },
    "kernelspec": {
      "name": "python3",
      "display_name": "Python 3"
    }
  },
  "cells": [
    {
      "cell_type": "code",
      "metadata": {
        "id": "bV5YUJCuizIN"
      },
      "source": [
        "import numpy as np\r\n",
        "import pandas as pd\r\n",
        "from sklearn.naive_bayes import GaussianNB,CategoricalNB\r\n",
        "from sklearn.neural_network import MLPClassifier\r\n",
        "from sklearn.ensemble import RandomForestClassifier\r\n",
        "from sklearn.svm import SVC\r\n",
        "from sklearn.tree import DecisionTreeClassifier\r\n",
        "from sklearn.linear_model import LogisticRegression\r\n",
        "from sklearn.decomposition import PCA\r\n",
        "from sklearn.model_selection import train_test_split\r\n",
        "from sklearn.metrics import confusion_matrix\r\n",
        "import matplotlib.pyplot as plt"
      ],
      "execution_count": 1,
      "outputs": []
    },
    {
      "cell_type": "code",
      "metadata": {
        "id": "uOscWZ5DjibG"
      },
      "source": [
        "data = pd.read_excel(\"/content/drive/MyDrive/floatRanges.xlsx\")"
      ],
      "execution_count": 2,
      "outputs": []
    },
    {
      "cell_type": "code",
      "metadata": {
        "colab": {
          "base_uri": "https://localhost:8080/"
        },
        "id": "Ema-1hL_l8Y_",
        "outputId": "a857d9c3-511d-40ed-a47d-8309674d4abe"
      },
      "source": [
        "from google.colab import drive\n",
        "drive.mount('/content/drive')"
      ],
      "execution_count": 3,
      "outputs": [
        {
          "output_type": "stream",
          "text": [
            "Drive already mounted at /content/drive; to attempt to forcibly remount, call drive.mount(\"/content/drive\", force_remount=True).\n"
          ],
          "name": "stdout"
        }
      ]
    },
    {
      "cell_type": "code",
      "metadata": {
        "id": "NJ6-ValQmsfQ",
        "colab": {
          "base_uri": "https://localhost:8080/",
          "height": 348
        },
        "outputId": "cbcd4da1-84bd-4753-bbfc-9dc40d585eb7"
      },
      "source": [
        "data.head()"
      ],
      "execution_count": 4,
      "outputs": [
        {
          "output_type": "execute_result",
          "data": {
            "text/html": [
              "<div>\n",
              "<style scoped>\n",
              "    .dataframe tbody tr th:only-of-type {\n",
              "        vertical-align: middle;\n",
              "    }\n",
              "\n",
              "    .dataframe tbody tr th {\n",
              "        vertical-align: top;\n",
              "    }\n",
              "\n",
              "    .dataframe thead th {\n",
              "        text-align: right;\n",
              "    }\n",
              "</style>\n",
              "<table border=\"1\" class=\"dataframe\">\n",
              "  <thead>\n",
              "    <tr style=\"text-align: right;\">\n",
              "      <th></th>\n",
              "      <th>teaching</th>\n",
              "      <th>foreign language</th>\n",
              "      <th>study of history</th>\n",
              "      <th>arts skills</th>\n",
              "      <th>journalism</th>\n",
              "      <th>economic&amp;stat</th>\n",
              "      <th>philosophy&amp;psychology</th>\n",
              "      <th>Athletic&amp;training</th>\n",
              "      <th>accounting&amp;BIS</th>\n",
              "      <th>political&amp;scienes</th>\n",
              "      <th>law&amp;canon</th>\n",
              "      <th>target</th>\n",
              "    </tr>\n",
              "  </thead>\n",
              "  <tbody>\n",
              "    <tr>\n",
              "      <th>0</th>\n",
              "      <td>2.687521</td>\n",
              "      <td>6.465513</td>\n",
              "      <td>5.203674</td>\n",
              "      <td>1.301182</td>\n",
              "      <td>5.093832</td>\n",
              "      <td>7.412770</td>\n",
              "      <td>1.033587</td>\n",
              "      <td>1.007595</td>\n",
              "      <td>2.265348</td>\n",
              "      <td>7.938241</td>\n",
              "      <td>1.158473</td>\n",
              "      <td>سياسة و اقتصاد</td>\n",
              "    </tr>\n",
              "    <tr>\n",
              "      <th>1</th>\n",
              "      <td>1.586377</td>\n",
              "      <td>4.019838</td>\n",
              "      <td>4.921949</td>\n",
              "      <td>0.798779</td>\n",
              "      <td>6.650666</td>\n",
              "      <td>7.718297</td>\n",
              "      <td>0.183532</td>\n",
              "      <td>1.917484</td>\n",
              "      <td>2.401719</td>\n",
              "      <td>7.257602</td>\n",
              "      <td>0.374319</td>\n",
              "      <td>سياسة و اقتصاد</td>\n",
              "    </tr>\n",
              "    <tr>\n",
              "      <th>2</th>\n",
              "      <td>0.805245</td>\n",
              "      <td>5.266485</td>\n",
              "      <td>4.213753</td>\n",
              "      <td>1.133709</td>\n",
              "      <td>5.970605</td>\n",
              "      <td>9.649107</td>\n",
              "      <td>1.645136</td>\n",
              "      <td>0.074926</td>\n",
              "      <td>1.677621</td>\n",
              "      <td>5.439513</td>\n",
              "      <td>2.544068</td>\n",
              "      <td>سياسة و اقتصاد</td>\n",
              "    </tr>\n",
              "    <tr>\n",
              "      <th>3</th>\n",
              "      <td>0.644631</td>\n",
              "      <td>3.764272</td>\n",
              "      <td>4.525165</td>\n",
              "      <td>0.302923</td>\n",
              "      <td>4.360189</td>\n",
              "      <td>7.604635</td>\n",
              "      <td>2.663863</td>\n",
              "      <td>0.040840</td>\n",
              "      <td>4.136781</td>\n",
              "      <td>8.974097</td>\n",
              "      <td>1.693949</td>\n",
              "      <td>سياسة و اقتصاد</td>\n",
              "    </tr>\n",
              "    <tr>\n",
              "      <th>4</th>\n",
              "      <td>2.077290</td>\n",
              "      <td>6.883883</td>\n",
              "      <td>4.847638</td>\n",
              "      <td>0.405932</td>\n",
              "      <td>4.878135</td>\n",
              "      <td>9.403864</td>\n",
              "      <td>0.219167</td>\n",
              "      <td>0.748536</td>\n",
              "      <td>3.679083</td>\n",
              "      <td>8.390997</td>\n",
              "      <td>2.725261</td>\n",
              "      <td>سياسة و اقتصاد</td>\n",
              "    </tr>\n",
              "  </tbody>\n",
              "</table>\n",
              "</div>"
            ],
            "text/plain": [
              "   teaching  foreign language  ...  law&canon          target\n",
              "0  2.687521          6.465513  ...   1.158473  سياسة و اقتصاد\n",
              "1  1.586377          4.019838  ...   0.374319  سياسة و اقتصاد\n",
              "2  0.805245          5.266485  ...   2.544068  سياسة و اقتصاد\n",
              "3  0.644631          3.764272  ...   1.693949  سياسة و اقتصاد\n",
              "4  2.077290          6.883883  ...   2.725261  سياسة و اقتصاد\n",
              "\n",
              "[5 rows x 12 columns]"
            ]
          },
          "metadata": {
            "tags": []
          },
          "execution_count": 4
        }
      ]
    },
    {
      "cell_type": "code",
      "metadata": {
        "id": "2sjQRpkamtmC"
      },
      "source": [
        "X = data.drop(columns='target')\r\n",
        "Y = data['target'].copy()"
      ],
      "execution_count": 5,
      "outputs": []
    },
    {
      "cell_type": "code",
      "metadata": {
        "id": "sCNzQDbLmtuV"
      },
      "source": [
        "pca = PCA(2) \r\n",
        "pca.fit(X) \r\n",
        "  \r\n",
        "pca_data = pd.DataFrame(pca.transform(X)) "
      ],
      "execution_count": 6,
      "outputs": []
    },
    {
      "cell_type": "code",
      "metadata": {
        "id": "kUddQvO4rFVD",
        "colab": {
          "base_uri": "https://localhost:8080/",
          "height": 299
        },
        "outputId": "91cc0ff9-6640-446d-e02e-51577f9a526c"
      },
      "source": [
        "colors = {'سياسة و اقتصاد':'r', 'السن':'g', 'تربية':'b', 'اداب':'y'}\r\n",
        "\r\n",
        "fig, ax = plt.subplots()\r\n",
        "\r\n",
        "for i in range(len(X)):\r\n",
        "    ax.scatter(X['teaching'][i], X['economic&stat'][i],color=colors[Y[i]])\r\n",
        "\r\n",
        "ax.set_title('Dataset')\r\n",
        "ax.set_xlabel('')\r\n",
        "ax.set_ylabel('')"
      ],
      "execution_count": 7,
      "outputs": [
        {
          "output_type": "execute_result",
          "data": {
            "text/plain": [
              "Text(0, 0.5, '')"
            ]
          },
          "metadata": {
            "tags": []
          },
          "execution_count": 7
        },
        {
          "output_type": "display_data",
          "data": {
            "image/png": "[encoded data removed]",
            "text/plain": [
              "<Figure size 432x288 with 1 Axes>"
            ]
          },
          "metadata": {
            "tags": [],
            "needs_background": "light"
          }
        }
      ]
    },
    {
      "cell_type": "code",
      "metadata": {
        "colab": {
          "base_uri": "https://localhost:8080/",
          "height": 299
        },
        "id": "d0R-KrkhoCVv",
        "outputId": "c1c0f9ba-52e9-475a-c7ce-f28b619259e8"
      },
      "source": [
        "colors = {'سياسة و اقتصاد':'r', 'السن':'g', 'تربية':'b', 'اداب':'y'}\r\n",
        "\r\n",
        "fig, ax = plt.subplots()\r\n",
        "\r\n",
        "for i in range(len(pca_data[0])):\r\n",
        "    ax.scatter(pca_data[0][i], pca_data[1][i],color=colors[Y[i]])\r\n",
        "\r\n",
        "ax.set_title('Dataset')\r\n",
        "ax.set_xlabel('')\r\n",
        "ax.set_ylabel('')"
      ],
      "execution_count": 8,
      "outputs": [
        {
          "output_type": "execute_result",
          "data": {
            "text/plain": [
              "Text(0, 0.5, '')"
            ]
          },
          "metadata": {
            "tags": []
          },
          "execution_count": 8
        },
        {
          "output_type": "display_data",
          "data": {
            "image/png": "[encoded data removed]",
            "text/plain": [
              "<Figure size 432x288 with 1 Axes>"
            ]
          },
          "metadata": {
            "tags": [],
            "needs_background": "light"
          }
        }
      ]
    },
    {
      "cell_type": "code",
      "metadata": {
        "id": "pXqYvor7pw41"
      },
      "source": [
        "x_train,x_test,y_train,y_test = train_test_split(X,Y,test_size=0.3,random_state=42,stratify=Y)"
      ],
      "execution_count": 9,
      "outputs": []
    },
    {
      "cell_type": "code",
      "metadata": {
        "id": "FWVnawJQpwuG"
      },
      "source": [
        "model = GaussianNB()"
      ],
      "execution_count": 10,
      "outputs": []
    },
    {
      "cell_type": "code",
      "metadata": {
        "colab": {
          "base_uri": "https://localhost:8080/"
        },
        "id": "Y6tXKEQ1pw_i",
        "outputId": "d55a28f5-3b5b-4123-a44c-a636bbd634d6"
      },
      "source": [
        "model.fit(x_train,y_train)"
      ],
      "execution_count": 11,
      "outputs": [
        {
          "output_type": "execute_result",
          "data": {
            "text/plain": [
              "GaussianNB(priors=None, var_smoothing=1e-09)"
            ]
          },
          "metadata": {
            "tags": []
          },
          "execution_count": 11
        }
      ]
    },
    {
      "cell_type": "code",
      "metadata": {
        "colab": {
          "base_uri": "https://localhost:8080/"
        },
        "id": "jkB8qEfeqs3U",
        "outputId": "22a5aaee-ffe1-4af9-84c0-fbd12ba4d30f"
      },
      "source": [
        "model.score(x_test, y_test)"
      ],
      "execution_count": 12,
      "outputs": [
        {
          "output_type": "execute_result",
          "data": {
            "text/plain": [
              "0.8958333333333334"
            ]
          },
          "metadata": {
            "tags": []
          },
          "execution_count": 12
        }
      ]
    },
    {
      "cell_type": "code",
      "metadata": {
        "id": "EOV-XV4RrRew"
      },
      "source": [
        "y_pred = model.predict(x_test)"
      ],
      "execution_count": 13,
      "outputs": []
    },
    {
      "cell_type": "code",
      "metadata": {
        "colab": {
          "base_uri": "https://localhost:8080/"
        },
        "id": "QXW4GNGeSGJn",
        "outputId": "f9e30ee7-5fb9-4ff5-cceb-4a29b3a224fe"
      },
      "source": [
        "model.classes_"
      ],
      "execution_count": 14,
      "outputs": [
        {
          "output_type": "execute_result",
          "data": {
            "text/plain": [
              "array(['اداب', 'السن', 'تربية', 'سياسة و اقتصاد'], dtype='<U14')"
            ]
          },
          "metadata": {
            "tags": []
          },
          "execution_count": 14
        }
      ]
    },
    {
      "cell_type": "code",
      "metadata": {
        "colab": {
          "base_uri": "https://localhost:8080/"
        },
        "id": "FtE83MijrYCN",
        "outputId": "3109542d-3c60-4a86-eb3e-72f3978a5542"
      },
      "source": [
        "confusion_matrix(y_test, y_pred)"
      ],
      "execution_count": 15,
      "outputs": [
        {
          "output_type": "execute_result",
          "data": {
            "text/plain": [
              "array([[49,  0, 11,  0],\n",
              "       [ 0, 60,  0,  0],\n",
              "       [14,  0, 46,  0],\n",
              "       [ 0,  0,  0, 60]])"
            ]
          },
          "metadata": {
            "tags": []
          },
          "execution_count": 15
        }
      ]
    },
    {
      "cell_type": "code",
      "metadata": {
        "id": "Fz32hZvkrdCo"
      },
      "source": [
        "#prob = model.predict_proba(x_test)"
      ],
      "execution_count": 16,
      "outputs": []
    },
    {
      "cell_type": "code",
      "metadata": {
        "id": "J7hkAAxPtvOT"
      },
      "source": [
        "#output = []\r\n",
        "#for i in range(len(model.classes_)):\r\n",
        "  #output.append([model.classes_[i], prob[0][i]])"
      ],
      "execution_count": 17,
      "outputs": []
    },
    {
      "cell_type": "code",
      "metadata": {
        "id": "vSUjGpbJt2LY"
      },
      "source": [
        "#ds = pd.DataFrame(output, columns = ['name', 'prob']) "
      ],
      "execution_count": 18,
      "outputs": []
    },
    {
      "cell_type": "code",
      "metadata": {
        "id": "mfi6huokt4c6"
      },
      "source": [
        "#ds.sort_values(by=['prob'],ascending=False)"
      ],
      "execution_count": 19,
      "outputs": []
    }
  ]
}