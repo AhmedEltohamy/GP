{
  "nbformat": 4,
  "nbformat_minor": 0,
  "metadata": {
    "colab": {
      "name": "floatRanges.ipynb",
      "provenance": [],
      "collapsed_sections": []
    },
    "kernelspec": {
      "name": "python3",
      "display_name": "Python 3"
    }
  },
  "cells": [
    {
      "cell_type": "code",
      "metadata": {
        "id": "F4EnOhC1WLmr"
      },
      "source": [
        "import numpy as np\r\n",
        "import pandas as pd\r\n",
        "import random"
      ],
      "execution_count": null,
      "outputs": []
    },
    {
      "cell_type": "code",
      "metadata": {
        "id": "9CkhBhTqY5a_"
      },
      "source": [
        "def generate_data(teaching,foreign_language,study_of_history,arts_skills,journalism,economic_stat,\r\n",
        "                  philosophy_psychology,Athletic_training,accounting_BIS,political_scienes,law_canon,target):\r\n",
        "  data = []\r\n",
        "  cols_name =['teaching','foreign language','study of history','arts skills','journalism','economic&stat',\r\n",
        "                  'philosophy&psychology','Athletic&training','accounting&BIS','political&scienes','law&canon','target']\r\n",
        "\r\n",
        "\r\n",
        "  for i in range(200):\r\n",
        "    l = [random.uniform(teaching[0],teaching[1]),\r\n",
        "         random.uniform(foreign_language[0],foreign_language[1]),\r\n",
        "         random.uniform(study_of_history[0],study_of_history[1]),\r\n",
        "         random.uniform(arts_skills[0],arts_skills[1]),\r\n",
        "         random.uniform(journalism[0],journalism[1]),\r\n",
        "         random.uniform(economic_stat[0],economic_stat[1]),\r\n",
        "         random.uniform(philosophy_psychology[0],philosophy_psychology[1]),\r\n",
        "         random.uniform(Athletic_training[0],Athletic_training[1]),\r\n",
        "         random.uniform(accounting_BIS[0],accounting_BIS[1]),\r\n",
        "         random.uniform(political_scienes[0],political_scienes[1]),\r\n",
        "         random.uniform(law_canon[0],law_canon[1]),\r\n",
        "         target\r\n",
        "         ]\r\n",
        "    data.append(l)\r\n",
        "\r\n",
        "  df = pd.DataFrame(data, columns = cols_name) \r\n",
        "  return df"
      ],
      "execution_count": null,
      "outputs": []
    },
    {
      "cell_type": "code",
      "metadata": {
        "id": "5Rc1ZUJbVzh8"
      },
      "source": [
        "cols_name =['teaching','foreign language','study of history','arts skills','journalism','economic&stat',\r\n",
        "                  'philosophy&psychology','Athletic&training','accounting&BIS','political&scienes','law&canon','target']\r\n",
        "dataset = pd.DataFrame(columns = cols_name) "
      ],
      "execution_count": null,
      "outputs": []
    },
    {
      "cell_type": "code",
      "metadata": {
        "id": "VyAuPP_xWyN9"
      },
      "source": [
        "#set ranges for each feature depend on college \r\n",
        "teaching = (6,10)\r\n",
        "foreign_language = (7,10)\r\n",
        "study_of_history = (1,3)\r\n",
        "arts_skills = (0,2)\r\n",
        "journalism = (0,2)\r\n",
        "economic_stat = (1,3)\r\n",
        "philosophy_psychology = (1,3)\r\n",
        "Athletic_training = (0,2)\r\n",
        "accounting_BIS = (0,3)\r\n",
        "political_scienes = (0,2)\r\n",
        "law_canon = (0,2)\r\n",
        "target = 'السن'"
      ],
      "execution_count": null,
      "outputs": []
    },
    {
      "cell_type": "code",
      "metadata": {
        "id": "PlJbkyz-gTBn"
      },
      "source": [
        "df = generate_data(teaching,\r\n",
        "foreign_language,\r\n",
        "study_of_history,\r\n",
        "arts_skills,\r\n",
        "journalism,\r\n",
        "economic_stat,\r\n",
        "philosophy_psychology,\r\n",
        "Athletic_training,\r\n",
        "accounting_BIS,\r\n",
        "political_scienes,\r\n",
        "law_canon,\r\n",
        "target)"
      ],
      "execution_count": null,
      "outputs": []
    },
    {
      "cell_type": "code",
      "metadata": {
        "id": "PKtjnsejive6"
      },
      "source": [
        "dataset = pd.concat([dataset, df],ignore_index=True)"
      ],
      "execution_count": null,
      "outputs": []
    },
    {
      "cell_type": "code",
      "metadata": {
        "colab": {
          "base_uri": "https://localhost:8080/",
          "height": 261
        },
        "id": "PPC6eZJ1iIPl",
        "outputId": "e97b6b1f-5f9b-48b5-b8a1-2c6825739664"
      },
      "source": [
        "dataset.tail()"
      ],
      "execution_count": null,
      "outputs": [
        {
          "output_type": "execute_result",
          "data": {
            "text/html": [
              "<div>\n",
              "<style scoped>\n",
              "    .dataframe tbody tr th:only-of-type {\n",
              "        vertical-align: middle;\n",
              "    }\n",
              "\n",
              "    .dataframe tbody tr th {\n",
              "        vertical-align: top;\n",
              "    }\n",
              "\n",
              "    .dataframe thead th {\n",
              "        text-align: right;\n",
              "    }\n",
              "</style>\n",
              "<table border=\"1\" class=\"dataframe\">\n",
              "  <thead>\n",
              "    <tr style=\"text-align: right;\">\n",
              "      <th></th>\n",
              "      <th>teaching</th>\n",
              "      <th>foreign language</th>\n",
              "      <th>study of history</th>\n",
              "      <th>arts skills</th>\n",
              "      <th>journalism</th>\n",
              "      <th>economic&amp;stat</th>\n",
              "      <th>philosophy&amp;psychology</th>\n",
              "      <th>Athletic&amp;training</th>\n",
              "      <th>accounting&amp;BIS</th>\n",
              "      <th>political&amp;scienes</th>\n",
              "      <th>law&amp;canon</th>\n",
              "      <th>target</th>\n",
              "    </tr>\n",
              "  </thead>\n",
              "  <tbody>\n",
              "    <tr>\n",
              "      <th>795</th>\n",
              "      <td>6.923096</td>\n",
              "      <td>9.737841</td>\n",
              "      <td>2.742613</td>\n",
              "      <td>1.283119</td>\n",
              "      <td>0.178038</td>\n",
              "      <td>1.095441</td>\n",
              "      <td>1.668225</td>\n",
              "      <td>0.936330</td>\n",
              "      <td>0.713766</td>\n",
              "      <td>1.743461</td>\n",
              "      <td>1.595595</td>\n",
              "      <td>السن</td>\n",
              "    </tr>\n",
              "    <tr>\n",
              "      <th>796</th>\n",
              "      <td>9.620947</td>\n",
              "      <td>9.866251</td>\n",
              "      <td>2.628776</td>\n",
              "      <td>0.544725</td>\n",
              "      <td>1.849813</td>\n",
              "      <td>1.429224</td>\n",
              "      <td>1.400327</td>\n",
              "      <td>0.669516</td>\n",
              "      <td>2.304355</td>\n",
              "      <td>1.672247</td>\n",
              "      <td>0.641994</td>\n",
              "      <td>السن</td>\n",
              "    </tr>\n",
              "    <tr>\n",
              "      <th>797</th>\n",
              "      <td>7.738728</td>\n",
              "      <td>7.085799</td>\n",
              "      <td>1.991167</td>\n",
              "      <td>0.078122</td>\n",
              "      <td>1.016183</td>\n",
              "      <td>1.151850</td>\n",
              "      <td>2.896961</td>\n",
              "      <td>0.730597</td>\n",
              "      <td>1.411333</td>\n",
              "      <td>1.425023</td>\n",
              "      <td>0.294500</td>\n",
              "      <td>السن</td>\n",
              "    </tr>\n",
              "    <tr>\n",
              "      <th>798</th>\n",
              "      <td>9.871242</td>\n",
              "      <td>8.538208</td>\n",
              "      <td>2.266151</td>\n",
              "      <td>1.442623</td>\n",
              "      <td>1.223409</td>\n",
              "      <td>1.475821</td>\n",
              "      <td>2.137911</td>\n",
              "      <td>0.355536</td>\n",
              "      <td>1.444884</td>\n",
              "      <td>1.854472</td>\n",
              "      <td>0.472593</td>\n",
              "      <td>السن</td>\n",
              "    </tr>\n",
              "    <tr>\n",
              "      <th>799</th>\n",
              "      <td>7.799128</td>\n",
              "      <td>7.990444</td>\n",
              "      <td>2.716352</td>\n",
              "      <td>0.905024</td>\n",
              "      <td>1.091961</td>\n",
              "      <td>2.585921</td>\n",
              "      <td>2.362830</td>\n",
              "      <td>0.127917</td>\n",
              "      <td>2.996021</td>\n",
              "      <td>0.011558</td>\n",
              "      <td>1.336453</td>\n",
              "      <td>السن</td>\n",
              "    </tr>\n",
              "  </tbody>\n",
              "</table>\n",
              "</div>"
            ],
            "text/plain": [
              "     teaching  foreign language  ...  law&canon  target\n",
              "795  6.923096          9.737841  ...   1.595595    السن\n",
              "796  9.620947          9.866251  ...   0.641994    السن\n",
              "797  7.738728          7.085799  ...   0.294500    السن\n",
              "798  9.871242          8.538208  ...   0.472593    السن\n",
              "799  7.799128          7.990444  ...   1.336453    السن\n",
              "\n",
              "[5 rows x 12 columns]"
            ]
          },
          "metadata": {
            "tags": []
          },
          "execution_count": 23
        }
      ]
    },
    {
      "cell_type": "code",
      "metadata": {
        "colab": {
          "base_uri": "https://localhost:8080/"
        },
        "id": "O5hDuRsjdFsb",
        "outputId": "e232cc4c-0acf-4180-cc48-46b13edb9b94"
      },
      "source": [
        "dataset['target'].unique()"
      ],
      "execution_count": null,
      "outputs": [
        {
          "output_type": "execute_result",
          "data": {
            "text/plain": [
              "array(['سياسة و اقتصاد', 'اداب', 'تربية', 'السن'], dtype=object)"
            ]
          },
          "metadata": {
            "tags": []
          },
          "execution_count": 22
        }
      ]
    },
    {
      "cell_type": "code",
      "metadata": {
        "id": "yRVRvTJ6d1a6"
      },
      "source": [
        "#dataset.to_excel('floatRanges.xlsx', encoding='utf8')"
      ],
      "execution_count": null,
      "outputs": []
    }
  ]
}