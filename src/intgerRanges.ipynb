{
  "nbformat": 4,
  "nbformat_minor": 0,
  "metadata": {
    "colab": {
      "name": "intgerRanges.ipynb",
      "provenance": [],
      "collapsed_sections": []
    },
    "kernelspec": {
      "name": "python3",
      "display_name": "Python 3"
    }
  },
  "cells": [
    {
      "cell_type": "code",
      "metadata": {
        "id": "F4EnOhC1WLmr"
      },
      "source": [
        "import numpy as np\r\n",
        "import pandas as pd\r\n",
        "import random"
      ],
      "execution_count": null,
      "outputs": []
    },
    {
      "cell_type": "code",
      "metadata": {
        "id": "9CkhBhTqY5a_"
      },
      "source": [
        "def generate_data(teaching,foreign_language,study_of_history,arts_skills,journalism,economic_stat,\r\n",
        "                  philosophy_psychology,Athletic_training,accounting_BIS,political_scienes,law_canon,target):\r\n",
        "  cols_name =['teaching','foreign language','study of history','arts skills','journalism','economic&stat',\r\n",
        "                  'philosophy&psychology','Athletic&training','accounting&BIS','political&scienes','law&canon','target']\r\n",
        "  data = []\r\n",
        "  for i in range(150):\r\n",
        "    l = [random.randint(teaching[0],teaching[1]),\r\n",
        "         random.randint(foreign_language[0],foreign_language[1]),\r\n",
        "         random.randint(study_of_history[0],study_of_history[1]),\r\n",
        "         random.randint(arts_skills[0],arts_skills[1]),\r\n",
        "         random.randint(journalism[0],journalism[1]),\r\n",
        "         random.randint(economic_stat[0],economic_stat[1]),\r\n",
        "         random.randint(philosophy_psychology[0],philosophy_psychology[1]),\r\n",
        "         random.randint(Athletic_training[0],Athletic_training[1]),\r\n",
        "         random.randint(accounting_BIS[0],accounting_BIS[1]),\r\n",
        "         random.randint(political_scienes[0],political_scienes[1]),\r\n",
        "         random.randint(law_canon[0],law_canon[1]),\r\n",
        "         target\r\n",
        "         ]\r\n",
        "    data.append(l)         \r\n",
        "\r\n",
        "  df = pd.DataFrame(data, columns = cols_name)  \r\n",
        "  return df"
      ],
      "execution_count": null,
      "outputs": []
    },
    {
      "cell_type": "code",
      "metadata": {
        "id": "5Rc1ZUJbVzh8"
      },
      "source": [
        "cols_name =['teaching','foreign language','study of history','arts skills','journalism','economic&stat',\r\n",
        "                  'philosophy&psychology','Athletic&training','accounting&BIS','political&scienes','law&canon','target']\r\n",
        "dataset = pd.DataFrame(columns = cols_name) "
      ],
      "execution_count": null,
      "outputs": []
    },
    {
      "cell_type": "code",
      "metadata": {
        "id": "VyAuPP_xWyN9"
      },
      "source": [
        "#set ranges for each feature depend on college \r\n",
        "teaching = (6,10)\r\n",
        "foreign_language = (7,10)\r\n",
        "study_of_history = (7,10)\r\n",
        "arts_skills = (0,3)\r\n",
        "journalism = (0,3)\r\n",
        "economic_stat = (0,4)\r\n",
        "philosophy_psychology = (6,10)\r\n",
        "Athletic_training = (0,2)\r\n",
        "accounting_BIS = (0,3)\r\n",
        "political_scienes = (0,2)\r\n",
        "law_canon = (0,2)\r\n",
        "target = 'اداب'"
      ],
      "execution_count": null,
      "outputs": []
    },
    {
      "cell_type": "code",
      "metadata": {
        "id": "PlJbkyz-gTBn"
      },
      "source": [
        "df = generate_data(teaching,\r\n",
        "foreign_language,\r\n",
        "study_of_history,\r\n",
        "arts_skills,\r\n",
        "journalism,\r\n",
        "economic_stat,\r\n",
        "philosophy_psychology,\r\n",
        "Athletic_training,\r\n",
        "accounting_BIS,\r\n",
        "political_scienes,\r\n",
        "law_canon,\r\n",
        "target)"
      ],
      "execution_count": null,
      "outputs": []
    },
    {
      "cell_type": "code",
      "metadata": {
        "id": "6j85irA8ghiH"
      },
      "source": [
        "dataset = pd.concat([dataset, df],ignore_index=True)"
      ],
      "execution_count": null,
      "outputs": []
    },
    {
      "cell_type": "code",
      "metadata": {
        "colab": {
          "base_uri": "https://localhost:8080/"
        },
        "id": "PPC6eZJ1iIPl",
        "outputId": "0340ac1d-08a6-46ca-86a6-fb4b57bee5c2"
      },
      "source": [
        "dataset.tail()"
      ],
      "execution_count": null,
      "outputs": [
        {
          "output_type": "execute_result",
          "data": {
            "text/plain": [
              "0"
            ]
          },
          "metadata": {
            "tags": []
          },
          "execution_count": 13
        }
      ]
    },
    {
      "cell_type": "code",
      "metadata": {
        "colab": {
          "base_uri": "https://localhost:8080/"
        },
        "id": "O5hDuRsjdFsb",
        "outputId": "e232cc4c-0acf-4180-cc48-46b13edb9b94"
      },
      "source": [
        "dataset['target'].unique()"
      ],
      "execution_count": null,
      "outputs": [
        {
          "output_type": "execute_result",
          "data": {
            "text/plain": [
              "array(['سياسة و اقتصاد', 'اداب', 'تربية', 'السن'], dtype=object)"
            ]
          },
          "metadata": {
            "tags": []
          },
          "execution_count": 22
        }
      ]
    },
    {
      "cell_type": "code",
      "metadata": {
        "id": "PKtjnsejive6"
      },
      "source": [
        "dataset.to_excel('floatRanges.xlsx', encoding='utf8')"
      ],
      "execution_count": null,
      "outputs": []
    }
  ]
}